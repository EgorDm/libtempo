{
 "cells": [
  {
   "cell_type": "code",
   "execution_count": 1,
   "metadata": {},
   "outputs": [],
   "source": [
    "from helpers.data_loading import load_folder, load_sections"
   ]
  },
  {
   "cell_type": "code",
   "execution_count": 2,
   "metadata": {},
   "outputs": [],
   "source": [
    "data_path = '../data/roze/'\n",
    "data = load_folder(data_path)\n",
    "sections = load_sections(data_path + 'sections.txt')"
   ]
  },
  {
   "cell_type": "code",
   "execution_count": 3,
   "metadata": {},
   "outputs": [
    {
     "data": {
      "text/html": [
       "<script>requirejs.config({paths: { 'plotly': ['https://cdn.plot.ly/plotly-latest.min']},});if(!window.Plotly) {{require(['plotly'],function(plotly) {window.Plotly=plotly;});}}</script>"
      ],
      "text/vnd.plotly.v1+html": [
       "<script>requirejs.config({paths: { 'plotly': ['https://cdn.plot.ly/plotly-latest.min']},});if(!window.Plotly) {{require(['plotly'],function(plotly) {window.Plotly=plotly;});}}</script>"
      ]
     },
     "metadata": {},
     "output_type": "display_data"
    }
   ],
   "source": [
    "import plotly.plotly as py\n",
    "import plotly.graph_objs as go\n",
    "from plotly.offline import download_plotlyjs, init_notebook_mode, plot, iplot\n",
    "init_notebook_mode(connected=True)\n",
    "import numpy as np"
   ]
  },
  {
   "cell_type": "code",
   "execution_count": 4,
   "metadata": {},
   "outputs": [],
   "source": [
    "from helpers.tempogram_utils import subtract_mean_clean"
   ]
  },
  {
   "cell_type": "code",
   "execution_count": 5,
   "metadata": {},
   "outputs": [],
   "source": [
    "ref_tempo = data.tempogram_cyclic.parameters['ref_tempo']\n",
    "tempogram_clean_data = subtract_mean_clean(np.abs(data.tempogram.data))"
   ]
  },
  {
   "cell_type": "code",
   "execution_count": 6,
   "metadata": {},
   "outputs": [
    {
     "data": {
      "text/plain": [
       "'file://D:\\\\Developent\\\\CPP\\\\tempogram_tempo_estimation\\\\visualization_py\\\\temp-plot.html'"
      ]
     },
     "execution_count": 6,
     "metadata": {},
     "output_type": "execute_result"
    }
   ],
   "source": [
    "layout = go.Layout(title='Tempogram')\n",
    "\n",
    "fig = go.Figure(data=[], layout=layout)\n",
    "fig.add_heatmap(z=tempogram_clean_data,  x=data.t.data, y=data.bpm.data, colorscale='Viridis', name='Tempogram')\n",
    "fig.add_scatter(x=data.t_smooth.data, y=data.tempo_curve.data * ref_tempo, name='Tempo ref')\n",
    "fig.add_scatter(x=data.t_smooth.data, y=data.tempo_curve.data * ref_tempo * 2, name='Tempo 2x')\n",
    "fig.add_scatter(x=data.t_smooth.data, y=data.tempo_curve.data * ref_tempo * 4, name='Tempo 4x')\n",
    "plot(fig)"
   ]
  },
  {
   "cell_type": "code",
   "execution_count": 7,
   "metadata": {},
   "outputs": [],
   "source": [
    "tempogram_cyclic_clean_data = subtract_mean_clean(np.abs(data.tempogram_cyclic.data))"
   ]
  },
  {
   "cell_type": "code",
   "execution_count": 8,
   "metadata": {},
   "outputs": [
    {
     "data": {
      "text/plain": [
       "'file://D:\\\\Developent\\\\CPP\\\\tempogram_tempo_estimation\\\\visualization_py\\\\temp-plot.html'"
      ]
     },
     "execution_count": 8,
     "metadata": {},
     "output_type": "execute_result"
    }
   ],
   "source": [
    "layout2 = go.Layout(title='Tempogram Cyclic')\n",
    "\n",
    "fig2 = go.Figure(data=[], layout=layout2)\n",
    "fig2.add_heatmap(z=tempogram_cyclic_clean_data,  x=data.t.data, y=data.ct_y_axis.data, colorscale='Viridis', name='Tempogram')\n",
    "fig2.add_scatter(x=data.t_smooth.data, y=data.tempo_curve.data, name='Tempo')\n",
    "plot(fig2)"
   ]
  },
  {
   "cell_type": "code",
   "execution_count": 9,
   "metadata": {},
   "outputs": [],
   "source": [
    "smooth_length = data.smooth_tempogram.parameters['smooth_length']"
   ]
  },
  {
   "cell_type": "code",
   "execution_count": 10,
   "metadata": {},
   "outputs": [
    {
     "data": {
      "text/plain": [
       "'file://D:\\\\Developent\\\\CPP\\\\tempogram_tempo_estimation\\\\visualization_py\\\\temp-plot.html'"
      ]
     },
     "execution_count": 10,
     "metadata": {},
     "output_type": "execute_result"
    }
   ],
   "source": [
    "start = data.t.data[0]\n",
    "end = data.t.data[-1]\n",
    "\n",
    "layout3 = go.Layout(title=f'Tempogram Smooth {smooth_length}', xaxis=dict(range=[start, end], autorange=False))\n",
    "\n",
    "fig3 = go.Figure(data=[], layout=layout3)\n",
    "fig3.add_heatmap(z=data.smooth_tempogram.data,  x=data.t_smooth.data, y=data.ct_y_axis.data, colorscale='Viridis', name='Tempogram')\n",
    "fig3.add_scatter(x=data.t_smooth.data, y=data.tempo_curve.data, name='Tempo')\n",
    "plot(fig3)"
   ]
  },
  {
   "cell_type": "code",
   "execution_count": 11,
   "metadata": {},
   "outputs": [],
   "source": [
    "def times_from_feature_rate(feature_rate, start, length):\n",
    "    return [i / feature_rate for i in range(start, start + length)]"
   ]
  },
  {
   "cell_type": "code",
   "execution_count": 12,
   "metadata": {},
   "outputs": [],
   "source": [
    "t_nc = times_from_feature_rate(data.novelty_curve.parameters['feature_rate'], 0, len(data.novelty_curve.data))"
   ]
  },
  {
   "cell_type": "code",
   "execution_count": 13,
   "metadata": {},
   "outputs": [
    {
     "data": {
      "text/plain": [
       "'file://D:\\\\Developent\\\\CPP\\\\tempogram_tempo_estimation\\\\visualization_py\\\\temp-plot.html'"
      ]
     },
     "execution_count": 13,
     "metadata": {},
     "output_type": "execute_result"
    }
   ],
   "source": [
    "layout4 = go.Layout(title='Novelty curve')\n",
    "\n",
    "fig4 = go.Figure(data=[], layout=layout4)\n",
    "fig4.add_scatter(x=t_nc, y=data.novelty_curve.data, name='Novelty Curve')\n",
    "plot(fig4)"
   ]
  },
  {
   "cell_type": "code",
   "execution_count": 14,
   "metadata": {},
   "outputs": [],
   "source": [
    "from helpers.signal_utils import pulse_for_section"
   ]
  },
  {
   "cell_type": "code",
   "execution_count": 15,
   "metadata": {},
   "outputs": [],
   "source": [
    "feature_rate = data.novelty_curve.parameters['feature_rate']\n",
    "pulses = []\n",
    "multiples = [4, 2, 1]\n",
    "\n",
    "for multiple in multiples:\n",
    "    pulse = np.zeros_like(data.novelty_curve.data)\n",
    "    for section in sections:\n",
    "        cosine, _ = pulse_for_section(section, feature_rate, multiple=multiple)\n",
    "        start = int(section.start * feature_rate)\n",
    "        pulse[start:start + len(cosine)] = cosine\n",
    "    pulses.append(pulse)\n",
    "    \n",
    "mag = max(data.novelty_curve.data) * 0.33"
   ]
  },
  {
   "cell_type": "code",
   "execution_count": 17,
   "metadata": {},
   "outputs": [
    {
     "data": {
      "text/plain": [
       "'file://D:\\\\Developent\\\\CPP\\\\tempogram_tempo_estimation\\\\visualization_py\\\\temp-plot.html'"
      ]
     },
     "execution_count": 17,
     "metadata": {},
     "output_type": "execute_result"
    }
   ],
   "source": [
    "layout5 = go.Layout(title='Cosine')\n",
    "\n",
    "fig5 = go.Figure(data=[], layout=layout5)\n",
    "fig5.add_scatter(x=t_nc, y=data.novelty_curve.data, name='Novelty Curve')\n",
    "\n",
    "for i in range(len(multiples)):\n",
    "    fig5.add_scatter(x=t_nc, y=(pulses[i] * mag * (pulses[i] > 0)), name=f'1/{multiples[i] * 4} notes') \n",
    "    \n",
    "plot(fig5)"
   ]
  },
  {
   "cell_type": "code",
   "execution_count": null,
   "metadata": {},
   "outputs": [],
   "source": []
  }
 ],
 "metadata": {
  "kernelspec": {
   "display_name": "MLKRLN",
   "language": "python",
   "name": "mlkrln"
  },
  "language_info": {
   "codemirror_mode": {
    "name": "ipython",
    "version": 3
   },
   "file_extension": ".py",
   "mimetype": "text/x-python",
   "name": "python",
   "nbconvert_exporter": "python",
   "pygments_lexer": "ipython3",
   "version": "3.6.5"
  }
 },
 "nbformat": 4,
 "nbformat_minor": 2
}
